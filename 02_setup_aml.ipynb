{
 "cells": [
  {
   "cell_type": "markdown",
   "metadata": {},
   "source": [
    "Copyright (c) Microsoft Corporation. All rights reserved.\n",
    "\n",
    "Licensed under the MIT License."
   ]
  },
  {
   "cell_type": "markdown",
   "metadata": {},
   "source": [
    "# Installation and configuration\n",
    "This notebook configures the notebooks in this tutorial to connect to an Azure Machine Learning (AML) Workspace.  You can use an existing workspace or create a new one."
   ]
  },
  {
   "cell_type": "code",
   "execution_count": 1,
   "metadata": {},
   "outputs": [],
   "source": [
    "import azureml.core\n",
    "from azureml.core import Workspace\n",
    "from dotenv import set_key, get_key, find_dotenv, load_dotenv\n",
    "from pathlib import Path\n",
    "import json\n",
    "import os"
   ]
  },
  {
   "cell_type": "markdown",
   "metadata": {},
   "source": [
    "## Prerequisites"
   ]
  },
  {
   "cell_type": "markdown",
   "metadata": {},
   "source": [
    "If you have already completed the prerequisites and selected the correct Kernel for this notebook, the AML Python SDK is already installed. Let's check the AML SDK version."
   ]
  },
  {
   "cell_type": "code",
   "execution_count": 2,
   "metadata": {
    "tags": [
     "install"
    ]
   },
   "outputs": [
    {
     "name": "stdout",
     "output_type": "stream",
     "text": [
      "AML SDK Version: 1.0.2\n"
     ]
    }
   ],
   "source": [
    "print(\"AML SDK Version:\", azureml.core.VERSION) # 1.0.2"
   ]
  },
  {
   "cell_type": "markdown",
   "metadata": {},
   "source": [
    "## Set up your Azure Machine Learning workspace"
   ]
  },
  {
   "cell_type": "markdown",
   "metadata": {},
   "source": [
    "To create or access an Azure ML Workspace, you will need the following information:\n",
    "\n",
    "* Your subscription id\n",
    "* A resource group name\n",
    "* A name for your workspace\n",
    "* A region for your workspace\n",
    "\n",
    "**Note**: As with other Azure services, there are limits on certain resources like cluster size associated with the Azure Machine Learning service. Please read [this article](https://docs.microsoft.com/en-us/azure/machine-learning/service/how-to-manage-quotas) on the default limits and how to request more quota."
   ]
  },
  {
   "cell_type": "markdown",
   "metadata": {},
   "source": [
    "If you have a workspace created already, you need to get your subscription and workspace information. You can find the values for those by visiting your workspace in the [Azure portal](http://portal.azure.com). If you don't have a workspace, the create workspace command in the next section will create a resource group and a workspace using the names you provide."
   ]
  },
  {
   "cell_type": "markdown",
   "metadata": {},
   "source": [
    " Replace the values in the following cell with your information."
   ]
  },
  {
   "cell_type": "code",
   "execution_count": 3,
   "metadata": {
    "tags": [
     "parameters"
    ]
   },
   "outputs": [],
   "source": [
    "subscription_id = \"<YOUR-SUBSCRIPTION>\"\n",
    "resource_group = \"<YOUR-RESOURCE-GROUP-NAME>\"\n",
    "workspace_name = \"<YOUR-WORKSPACE-NAME>\"\n",
    "workspace_region = \"<YOUR-REGION>\""
   ]
  },
  {
   "cell_type": "markdown",
   "metadata": {},
   "source": [
    "Create and initialize a dotenv file for storing parameters used in multiple notebooks."
   ]
  },
  {
   "cell_type": "code",
   "execution_count": 4,
   "metadata": {},
   "outputs": [],
   "source": [
    "env_path = find_dotenv()\n",
    "if env_path == \"\":\n",
    "    Path(\".env\").touch()\n",
    "    env_path = find_dotenv()"
   ]
  },
  {
   "cell_type": "code",
   "execution_count": 5,
   "metadata": {},
   "outputs": [
    {
     "data": {
      "text/plain": [
       "(True, 'REGION', 'eastus')"
      ]
     },
     "execution_count": 5,
     "metadata": {},
     "output_type": "execute_result"
    }
   ],
   "source": [
    "set_key(env_path, \"SUBSCRIPTION_ID\", subscription_id) # Replace YOUR_AZURE_SUBSCRIPTION\n",
    "set_key(env_path, \"RESOURCE_GROUP\", resource_group)\n",
    "set_key(env_path, \"WORKSPACE_NAME\", workspace_name)\n",
    "set_key(env_path, \"REGION\", workspace_region)"
   ]
  },
  {
   "cell_type": "markdown",
   "metadata": {},
   "source": [
    "#### Create the workspace\n",
    "This cell will create an AML workspace for you in a subscription, provided you have the correct permissions.\n",
    "\n",
    "This will fail when:\n",
    "1. You do not have permission to create a workspace in the resource group\n",
    "2. You do not have permission to create a resource group if it's non-existing.\n",
    "2. You are not a subscription owner or contributor and no Azure ML workspaces have ever been created in this subscription\n",
    "\n",
    "If workspace creation fails, please work with your IT admin to provide you with the appropriate permissions or to provision the required resources. If this cell succeeds, you're done configuring AML!  "
   ]
  },
  {
   "cell_type": "code",
   "execution_count": 6,
   "metadata": {
    "tags": [
     "create workspace"
    ]
   },
   "outputs": [
    {
     "name": "stderr",
     "output_type": "stream",
     "text": [
      "UserWarning: The resource group doesn't exist or was not provided. AzureML SDK is creating a resource group=jiataaml02 in location=eastus using subscription=edf507a2-6235-46c5-b560-fd463ba2e771.\n"
     ]
    }
   ],
   "source": [
    "# import the Workspace class\n",
    "ws = Workspace.create(\n",
    "    name=workspace_name,\n",
    "    subscription_id=subscription_id,\n",
    "    resource_group=resource_group,\n",
    "    location=workspace_region,\n",
    "    create_resource_group=True,\n",
    "    exist_ok=True,\n",
    ")"
   ]
  },
  {
   "cell_type": "markdown",
   "metadata": {},
   "source": [
    "Let's check the details of the workspace."
   ]
  },
  {
   "cell_type": "code",
   "execution_count": 7,
   "metadata": {},
   "outputs": [
    {
     "data": {
      "text/plain": [
       "{'id': '/subscriptions/edf507a2-6235-46c5-b560-fd463ba2e771/resourceGroups/jiataaml02/providers/Microsoft.MachineLearningServices/workspaces/jiataaml02',\n",
       " 'name': 'jiataaml02',\n",
       " 'location': 'eastus',\n",
       " 'type': 'Microsoft.MachineLearningServices/workspaces',\n",
       " 'workspaceid': '918c7d04-fddd-47a7-b605-0a67edf042e2',\n",
       " 'description': '',\n",
       " 'friendlyName': 'jiataaml02',\n",
       " 'creationTime': '2018-12-19T20:56:33.9615699+00:00',\n",
       " 'containerRegistry': '/subscriptions/edf507a2-6235-46c5-b560-fd463ba2e771/resourcegroups/jiataaml02/providers/microsoft.containerregistry/registries/jiataamlacrbtcxebrt',\n",
       " 'keyVault': '/subscriptions/edf507a2-6235-46c5-b560-fd463ba2e771/resourcegroups/jiataaml02/providers/microsoft.keyvault/vaults/jiataamlkeyvaultpwbhlczp',\n",
       " 'applicationInsights': '/subscriptions/edf507a2-6235-46c5-b560-fd463ba2e771/resourcegroups/jiataaml02/providers/microsoft.insights/components/jiataamlinsightsviufkvaa',\n",
       " 'identityPrincipalId': 'e013df28-64b5-4f9e-bbad-81f72e524acd',\n",
       " 'identityTenantId': '72f988bf-86f1-41af-91ab-2d7cd011db47',\n",
       " 'identityType': 'SystemAssigned',\n",
       " 'storageAccount': '/subscriptions/edf507a2-6235-46c5-b560-fd463ba2e771/resourcegroups/jiataaml02/providers/microsoft.storage/storageaccounts/jiataamlstoragertdxnean'}"
      ]
     },
     "execution_count": 7,
     "metadata": {},
     "output_type": "execute_result"
    }
   ],
   "source": [
    "ws.get_details()"
   ]
  },
  {
   "cell_type": "markdown",
   "metadata": {},
   "source": [
    "Let's write the workspace configuration for the rest of the notebooks to connect to the workspace."
   ]
  },
  {
   "cell_type": "code",
   "execution_count": 8,
   "metadata": {},
   "outputs": [
    {
     "name": "stdout",
     "output_type": "stream",
     "text": [
      "Wrote the config file config.json to: /home/jiata/code/batchscoringdl_aml/aml_config/config.json\n"
     ]
    }
   ],
   "source": [
    "ws.write_config()"
   ]
  },
  {
   "cell_type": "markdown",
   "metadata": {},
   "source": [
    "### Setup a Storage Account"
   ]
  },
  {
   "cell_type": "code",
   "execution_count": null,
   "metadata": {},
   "outputs": [],
   "source": [
    "storage_account_name = \"<YOUR-STORAGE-ACCOUNT-NAME>\"\n",
    "storage_container_name = \"<YOUR-STORAGE-CONTAINER-NAME>\""
   ]
  },
  {
   "cell_type": "markdown",
   "metadata": {},
   "source": [
    "Use the __az cli__ to create the account"
   ]
  },
  {
   "cell_type": "code",
   "execution_count": null,
   "metadata": {},
   "outputs": [],
   "source": [
    "!az storage account create \\\n",
    "    -n {storage_account_name} \\\n",
    "    -g {resource_group} \\\n",
    "    --query 'provisioningState'"
   ]
  },
  {
   "cell_type": "markdown",
   "metadata": {},
   "source": [
    "Use the __az cli__ to grab the keys of the storage account that was just created. The `--quote '[0].value'` part of the command simply means to select the _value_ of the _zero-th indexed_ of the set of keys."
   ]
  },
  {
   "cell_type": "code",
   "execution_count": null,
   "metadata": {},
   "outputs": [],
   "source": [
    "key = !az storage account keys list \\\n",
    "    --account-name {storage_account_name} \\\n",
    "    -g {resource_group} \\\n",
    "    --query '[0].value'"
   ]
  },
  {
   "cell_type": "markdown",
   "metadata": {},
   "source": [
    "The stdout from the command above is stored in a string array of 1. Select the element in the array and ttrip opening and closing quotation marks."
   ]
  },
  {
   "cell_type": "code",
   "execution_count": null,
   "metadata": {},
   "outputs": [],
   "source": [
    "storage_account_key = str(key[0][1:-1]) # this is used to strip opening and closing quotation marks"
   ]
  },
  {
   "cell_type": "markdown",
   "metadata": {},
   "source": [
    "Use the __az cli__ to create the container in the storage account"
   ]
  },
  {
   "cell_type": "code",
   "execution_count": null,
   "metadata": {},
   "outputs": [],
   "source": [
    "!az storage container create \\\n",
    "    --account-name {storage_account_name} \\\n",
    "    --account-key {storage_account_key} \\\n",
    "    --name {storage_container_name}"
   ]
  },
  {
   "cell_type": "markdown",
   "metadata": {},
   "source": [
    "Set storage account key to dotenv file"
   ]
  },
  {
   "cell_type": "code",
   "execution_count": null,
   "metadata": {},
   "outputs": [],
   "source": [
    "set_key(env_path, \"STORAGE_ACCOUNT_NAME\", storage_account_name)\n",
    "set_key(env_path, \"STORAGE_ACCOUNT_KEY\", storage_account_key) # generated\n",
    "set_key(env_path, \"STORAGE_CONTAINER_NAME\", storage_container_name)"
   ]
  },
  {
   "cell_type": "markdown",
   "metadata": {},
   "source": [
    "---"
   ]
  },
  {
   "cell_type": "markdown",
   "metadata": {},
   "source": [
    "You are now ready to move on to the [next notebook](03_develop_pipeline)."
   ]
  }
 ],
 "metadata": {
  "kernelspec": {
   "display_name": "Python [conda env:batchscoringdl_aml]",
   "language": "python",
   "name": "conda-env-batchscoringdl_aml-py"
  },
  "language_info": {
   "codemirror_mode": {
    "name": "ipython",
    "version": 3
   },
   "file_extension": ".py",
   "mimetype": "text/x-python",
   "name": "python",
   "nbconvert_exporter": "python",
   "pygments_lexer": "ipython3",
   "version": "3.6.7"
  }
 },
 "nbformat": 4,
 "nbformat_minor": 2
}
